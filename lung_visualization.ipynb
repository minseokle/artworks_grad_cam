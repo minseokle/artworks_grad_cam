{
 "cells": [
  {
   "cell_type": "code",
   "execution_count": 1,
   "id": "496ce38e-bddc-462e-8961-b9eba1ab6b8a",
   "metadata": {},
   "outputs": [
    {
     "name": "stdout",
     "output_type": "stream",
     "text": [
      "/root/.cache/kagglehub/datasets/rm1000/lung-cancer-histopathological-images/versions/1\n"
     ]
    }
   ],
   "source": [
    "#데이터셋 불러오기\n",
    "import kagglehub\n",
    "data_dir=kagglehub.dataset_download(\"rm1000/lung-cancer-histopathological-images\")\n",
    "print(data_dir)"
   ]
  },
  {
   "cell_type": "code",
   "execution_count": null,
   "id": "426522b3",
   "metadata": {},
   "outputs": [],
   "source": []
  }
 ],
 "metadata": {
  "kernelspec": {
   "display_name": "main",
   "language": "python",
   "name": "python3"
  },
  "language_info": {
   "codemirror_mode": {
    "name": "ipython",
    "version": 3
   },
   "file_extension": ".py",
   "mimetype": "text/x-python",
   "name": "python",
   "nbconvert_exporter": "python",
   "pygments_lexer": "ipython3",
   "version": "3.12.3"
  }
 },
 "nbformat": 4,
 "nbformat_minor": 5
}
